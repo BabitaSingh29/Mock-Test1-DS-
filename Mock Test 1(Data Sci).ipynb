{
 "cells": [
  {
   "cell_type": "markdown",
   "id": "684fee1b-d089-4cb9-9526-290a29280828",
   "metadata": {},
   "source": [
    "## Write a function that takes a list of numbers as input and returns a new list containing only the even numbers from the input list. Use list comprehension to solve this problem."
   ]
  },
  {
   "cell_type": "code",
   "execution_count": 1,
   "id": "7531e965-7a4d-4d56-b80b-d076bece45dc",
   "metadata": {},
   "outputs": [],
   "source": [
    "def get_even_numbers(input_list):\n",
    "    return [num for num in input_list if num % 2 == 0]"
   ]
  },
  {
   "cell_type": "markdown",
   "id": "42074c07-b08e-4c51-b68d-ef0234ed967e",
   "metadata": {},
   "source": [
    "## Implement a decorator function called ‘timer’ that measures the execution time of a function. The ‘timer’ decorator should print the time taken by the decorated function to execute. Use the ‘time’ module in Python to calculate the execution time."
   ]
  },
  {
   "cell_type": "code",
   "execution_count": 2,
   "id": "1305b0bd-f464-44ba-8f62-a24a4b998d9b",
   "metadata": {},
   "outputs": [],
   "source": [
    "import time\n",
    "\n",
    "def timer(func):\n",
    "    def wrapper(*args, **kwargs):\n",
    "        start_time = time.time()\n",
    "        result = func(*args, **kwargs)\n",
    "        end_time = time.time()\n",
    "        execution_time = end_time - start_time\n",
    "        print(f\"Execution time: {execution_time} seconds\")\n",
    "        return result\n",
    "    return wrapper"
   ]
  },
  {
   "cell_type": "markdown",
   "id": "426ca925-615d-4a49-bd95-9d977ff6a89e",
   "metadata": {},
   "source": [
    "You can use the 'timer' decorator by applying it to any function that you want to measure the execution time. Here's an example of how to use it:"
   ]
  },
  {
   "cell_type": "code",
   "execution_count": 3,
   "id": "36d27ce1-a23e-40b8-818d-500991f25b5b",
   "metadata": {},
   "outputs": [
    {
     "name": "stdout",
     "output_type": "stream",
     "text": [
      "Execution time: 2.0020577907562256 seconds\n"
     ]
    }
   ],
   "source": [
    "@timer\n",
    "def my_function():\n",
    "    # Code for your function here\n",
    "    time.sleep(2)  # Simulating some time-consuming task\n",
    "\n",
    "my_function()"
   ]
  },
  {
   "cell_type": "markdown",
   "id": "f20a620e-a041-4abf-86e6-773c8a5d3755",
   "metadata": {},
   "source": [
    "## Write a function called ‘calculate_mean’ that takes a list of numbers as input and returns the mean (average) of the numbers. The function should calculate the mean using the sum of the numbers divided by the total count."
   ]
  },
  {
   "cell_type": "code",
   "execution_count": 4,
   "id": "19f5475c-133b-4124-b794-05f7aea71268",
   "metadata": {},
   "outputs": [],
   "source": [
    "def calculate_mean(numbers):\n",
    "    if len(numbers) == 0:\n",
    "        return 0  # Return 0 if the list is empty\n",
    "\n",
    "    total_sum = sum(numbers)\n",
    "    mean = total_sum / len(numbers)\n",
    "    return mean"
   ]
  },
  {
   "cell_type": "code",
   "execution_count": 5,
   "id": "32b5ebb8-3620-4fbc-9d71-34bd10177f1b",
   "metadata": {},
   "outputs": [
    {
     "name": "stdout",
     "output_type": "stream",
     "text": [
      "3.6\n"
     ]
    }
   ],
   "source": [
    "numbers = [1, 2, 6, 4, 5]\n",
    "mean = calculate_mean(numbers)\n",
    "print(mean)"
   ]
  },
  {
   "cell_type": "markdown",
   "id": "ebfb3061-3bb2-4923-95ed-04d837a169ec",
   "metadata": {},
   "source": [
    "##  Write a function called ‘perform_hypothesis_test’ that takes two lists of numbers as input, representing two samples. The function should perform a two-sample t-test and return the p-value. Use the ‘scipy.stats’ module in Python to calculate the t-test and p-value."
   ]
  },
  {
   "cell_type": "code",
   "execution_count": null,
   "id": "bf5bcc09-c6ee-497c-b6ee-fffd44d33721",
   "metadata": {},
   "outputs": [],
   "source": []
  }
 ],
 "metadata": {
  "kernelspec": {
   "display_name": "Python 3 (ipykernel)",
   "language": "python",
   "name": "python3"
  },
  "language_info": {
   "codemirror_mode": {
    "name": "ipython",
    "version": 3
   },
   "file_extension": ".py",
   "mimetype": "text/x-python",
   "name": "python",
   "nbconvert_exporter": "python",
   "pygments_lexer": "ipython3",
   "version": "3.10.8"
  }
 },
 "nbformat": 4,
 "nbformat_minor": 5
}
